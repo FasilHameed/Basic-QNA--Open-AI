{
 "cells": [
  {
   "cell_type": "code",
   "execution_count": 7,
   "metadata": {},
   "outputs": [],
   "source": [
    "from langchain.llms import OpenAI"
   ]
  },
  {
   "cell_type": "code",
   "execution_count": 8,
   "metadata": {},
   "outputs": [],
   "source": [
    "from langchain_openai import ChatOpenAI\n",
    "\n",
    "llm = ChatOpenAI(openai_api_key=\"\")"
   ]
  },
  {
   "cell_type": "code",
   "execution_count": 9,
   "metadata": {},
   "outputs": [],
   "source": [
    "text =\"what is the capital of india\""
   ]
  },
  {
   "cell_type": "code",
   "execution_count": 10,
   "metadata": {},
   "outputs": [
    {
     "name": "stdout",
     "output_type": "stream",
     "text": [
      "content='The capital of India is New Delhi.' response_metadata={'finish_reason': 'stop', 'logprobs': None}\n"
     ]
    }
   ],
   "source": [
    "print(llm.invoke(text))"
   ]
  },
  {
   "cell_type": "code",
   "execution_count": 11,
   "metadata": {},
   "outputs": [],
   "source": [
    "import os\n",
    "os.environ['HUGGINGFACEHUB_API_TOKEN']=\"\""
   ]
  },
  {
   "cell_type": "code",
   "execution_count": 12,
   "metadata": {},
   "outputs": [
    {
     "name": "stderr",
     "output_type": "stream",
     "text": [
      "c:\\Users\\faisa\\OneDrive\\Desktop\\Gen AI\\Lang Chain Apps\\Project End to end Open AI and hugging face\\hugg\\Lib\\site-packages\\langchain_core\\_api\\deprecation.py:117: LangChainDeprecationWarning: The class `langchain_community.llms.huggingface_hub.HuggingFaceHub` was deprecated in langchain-community 0.0.21 and will be removed in 0.2.0. Use HuggingFaceEndpoint instead.\n",
      "  warn_deprecated(\n",
      "c:\\Users\\faisa\\OneDrive\\Desktop\\Gen AI\\Lang Chain Apps\\Project End to end Open AI and hugging face\\hugg\\Lib\\site-packages\\tqdm\\auto.py:21: TqdmWarning: IProgress not found. Please update jupyter and ipywidgets. See https://ipywidgets.readthedocs.io/en/stable/user_install.html\n",
      "  from .autonotebook import tqdm as notebook_tqdm\n"
     ]
    }
   ],
   "source": [
    "from langchain import HuggingFaceHub\n",
    "llm_huggingface=HuggingFaceHub(repo_id=\"google/flan-t5-large\",model_kwargs={\"temperature\":0,\"max_length\":64})"
   ]
  },
  {
   "cell_type": "code",
   "execution_count": 13,
   "metadata": {},
   "outputs": [],
   "source": [
    "output=llm_huggingface.invoke(\"can me tell the capital of russia\")"
   ]
  },
  {
   "cell_type": "code",
   "execution_count": 14,
   "metadata": {},
   "outputs": [
    {
     "name": "stdout",
     "output_type": "stream",
     "text": [
      "Moscow\n"
     ]
    }
   ],
   "source": [
    "print(output)"
   ]
  },
  {
   "cell_type": "code",
   "execution_count": 15,
   "metadata": {},
   "outputs": [
    {
     "name": "stdout",
     "output_type": "stream",
     "text": [
      "water i love you\n"
     ]
    }
   ],
   "source": [
    "print(llm_huggingface.invoke(\"can you write a poem water\"))"
   ]
  },
  {
   "cell_type": "code",
   "execution_count": 16,
   "metadata": {},
   "outputs": [
    {
     "name": "stdout",
     "output_type": "stream",
     "text": [
      "content=\"Water, clear and cool,\\nFlowing gently in the pool.\\nIt quenches thirst and soothes the soul,\\nA precious gift that makes us whole.\\n\\nFrom rivers to the vast sea,\\nWater connects you and me.\\nIt gives life to all that grows,\\nA source of beauty that constantly flows.\\n\\nSo let us cherish this precious resource,\\nAnd protect it with love and of course.\\nFor without water, we cannot survive,\\nSo let's keep it pure and keep it alive.\" response_metadata={'finish_reason': 'stop', 'logprobs': None} "
     ]
    }
   ],
   "source": [
    "print(llm.invoke(\"whrite a small poem on water\"),end=\" \")"
   ]
  },
  {
   "cell_type": "markdown",
   "metadata": {},
   "source": [
    "# prompt templates"
   ]
  },
  {
   "cell_type": "code",
   "execution_count": 17,
   "metadata": {},
   "outputs": [
    {
     "data": {
      "text/plain": [
       "'Tell me the capital of this India'"
      ]
     },
     "execution_count": 17,
     "metadata": {},
     "output_type": "execute_result"
    }
   ],
   "source": [
    "from langchain.prompts import PromptTemplate\n",
    "\n",
    "prompt_template=PromptTemplate(input_variables=['country'],\n",
    "template=\"Tell me the capital of this {country}\")\n",
    "\n",
    "prompt_template.format(country=\"India\")"
   ]
  },
  {
   "cell_type": "code",
   "execution_count": 18,
   "metadata": {},
   "outputs": [
    {
     "name": "stdout",
     "output_type": "stream",
     "text": [
      "{'country': 'India', 'text': 'The capital of India is New Delhi.'}\n"
     ]
    }
   ],
   "source": [
    "from langchain.chains import LLMChain\n",
    "chain=LLMChain(llm=llm,prompt=prompt_template)\n",
    "print(chain.invoke(\"India\"))"
   ]
  },
  {
   "cell_type": "code",
   "execution_count": 19,
   "metadata": {},
   "outputs": [],
   "source": [
    "capital_template=PromptTemplate(input_variables=['country'],\n",
    "template=\"Please tell me the capital of the {country}\")\n",
    "\n",
    "capital_chain=LLMChain(llm=llm,prompt=capital_template)"
   ]
  },
  {
   "cell_type": "code",
   "execution_count": 20,
   "metadata": {},
   "outputs": [],
   "source": [
    "famous_template=PromptTemplate(input_variables=['capital'],\n",
    "template=\"Suggest me some amazing places to visit in {capital}\")"
   ]
  },
  {
   "cell_type": "code",
   "execution_count": 21,
   "metadata": {},
   "outputs": [],
   "source": [
    "famous_chain=LLMChain(llm=llm,prompt=famous_template)"
   ]
  },
  {
   "cell_type": "code",
   "execution_count": 22,
   "metadata": {},
   "outputs": [
    {
     "name": "stdout",
     "output_type": "stream",
     "text": [
      "\n",
      "\n",
      "\u001b[1m> Entering new SimpleSequentialChain chain...\u001b[0m\n",
      "\u001b[36;1m\u001b[1;3mThe capital of India is New Delhi.\u001b[0m\n",
      "\u001b[33;1m\u001b[1;3m1. Red Fort - A historic fort complex that served as the main residence of the Mughal emperors for nearly 200 years.\n",
      "\n",
      "2. India Gate - A war memorial and iconic landmark in New Delhi dedicated to the Indian soldiers who died in World War I.\n",
      "\n",
      "3. Qutub Minar - A UNESCO World Heritage Site and the tallest brick minaret in the world, dating back to the 12th century.\n",
      "\n",
      "4. Humayun's Tomb - Another UNESCO World Heritage Site, this beautiful garden tomb is the final resting place of the Mughal Emperor Humayun.\n",
      "\n",
      "5. Lotus Temple - A stunning Bahá'í House of Worship known for its unique lotus-shaped architecture and peaceful atmosphere.\n",
      "\n",
      "6. Akshardham Temple - A large Hindu temple complex showcasing traditional Indian art, culture, and spirituality.\n",
      "\n",
      "7. National Museum - The largest museum in India, featuring a vast collection of art, artifacts, and archaeological finds from throughout the country's history.\n",
      "\n",
      "8. Chandni Chowk - One of the oldest and busiest markets in Delhi, offering a vibrant mix of street food, traditional crafts, and historic architecture.\n",
      "\n",
      "9. Lodhi Gardens - A peaceful oasis in the heart of the city, with beautiful gardens, historical monuments, and a serene atmosphere perfect for a leisurely stroll.\n",
      "\n",
      "10. Connaught Place - A bustling commercial and shopping district with a mix of modern stores, restaurants, and historic buildings dating back to the British colonial era.\u001b[0m\n",
      "\n",
      "\u001b[1m> Finished chain.\u001b[0m\n"
     ]
    },
    {
     "data": {
      "text/plain": [
       "{'input': 'India',\n",
       " 'output': \"1. Red Fort - A historic fort complex that served as the main residence of the Mughal emperors for nearly 200 years.\\n\\n2. India Gate - A war memorial and iconic landmark in New Delhi dedicated to the Indian soldiers who died in World War I.\\n\\n3. Qutub Minar - A UNESCO World Heritage Site and the tallest brick minaret in the world, dating back to the 12th century.\\n\\n4. Humayun's Tomb - Another UNESCO World Heritage Site, this beautiful garden tomb is the final resting place of the Mughal Emperor Humayun.\\n\\n5. Lotus Temple - A stunning Bahá'í House of Worship known for its unique lotus-shaped architecture and peaceful atmosphere.\\n\\n6. Akshardham Temple - A large Hindu temple complex showcasing traditional Indian art, culture, and spirituality.\\n\\n7. National Museum - The largest museum in India, featuring a vast collection of art, artifacts, and archaeological finds from throughout the country's history.\\n\\n8. Chandni Chowk - One of the oldest and busiest markets in Delhi, offering a vibrant mix of street food, traditional crafts, and historic architecture.\\n\\n9. Lodhi Gardens - A peaceful oasis in the heart of the city, with beautiful gardens, historical monuments, and a serene atmosphere perfect for a leisurely stroll.\\n\\n10. Connaught Place - A bustling commercial and shopping district with a mix of modern stores, restaurants, and historic buildings dating back to the British colonial era.\"}"
      ]
     },
     "execution_count": 22,
     "metadata": {},
     "output_type": "execute_result"
    }
   ],
   "source": [
    "from langchain.chains import SimpleSequentialChain\n",
    "chain=SimpleSequentialChain(chains=[capital_chain,famous_chain],verbose=True)\n",
    "chain.invoke(\"India\")"
   ]
  },
  {
   "cell_type": "code",
   "execution_count": 23,
   "metadata": {},
   "outputs": [
    {
     "name": "stderr",
     "output_type": "stream",
     "text": [
      "c:\\Users\\faisa\\OneDrive\\Desktop\\Gen AI\\Lang Chain Apps\\Project End to end Open AI and hugging face\\hugg\\Lib\\site-packages\\langchain_core\\_api\\deprecation.py:117: LangChainDeprecationWarning: The function `__call__` was deprecated in LangChain 0.1.0 and will be removed in 0.2.0. Use invoke instead.\n",
      "  warn_deprecated(\n"
     ]
    },
    {
     "data": {
      "text/plain": [
       "{'country': 'India',\n",
       " 'capital': 'The capital of India is New Delhi.',\n",
       " 'places': \"1. Red Fort - A historic fort complex that served as the main residence of the Mughal emperors for nearly 200 years.\\n\\n2. India Gate - A war memorial dedicated to the Indian soldiers who died during World War I.\\n\\n3. Qutub Minar - A UNESCO World Heritage Site and one of the tallest brick minarets in the world.\\n\\n4. Humayun's Tomb - A beautiful Mughal-era tomb built for the Emperor Humayun.\\n\\n5. Lotus Temple - A stunning white marble temple in the shape of a lotus flower, known for its peaceful atmosphere.\\n\\n6. Akshardham Temple - A massive Hindu temple complex known for its intricate architecture and spiritual ambiance.\\n\\n7. Jama Masjid - One of the largest mosques in India, built by the Mughal Emperor Shah Jahan.\\n\\n8. Chandni Chowk - A bustling market in Old Delhi known for its vibrant street food, shopping, and historical landmarks.\\n\\n9. National Museum - A treasure trove of Indian art, history, and culture, showcasing a wide range of artifacts and exhibits.\\n\\n10. Hauz Khas Village - A trendy neighborhood with chic boutiques, cafes, and art galleries, perfect for a day of shopping and exploring.\"}"
      ]
     },
     "execution_count": 23,
     "metadata": {},
     "output_type": "execute_result"
    }
   ],
   "source": [
    "capital_template=PromptTemplate(input_variables=['country'],\n",
    "template=\"Please tell me the capital of the {country}\")\n",
    "\n",
    "capital_chain=LLMChain(llm=llm,prompt=capital_template,output_key=\"capital\")\n",
    "\n",
    "famous_template=PromptTemplate(input_variables=['capital'],\n",
    "template=\"Suggest me some amazing places to visit in {capital}\")\n",
    "\n",
    "famous_chain=LLMChain(llm=llm,prompt=famous_template,output_key=\"places\")\n",
    "\n",
    "from langchain.chains import SequentialChain\n",
    "chain=SequentialChain(chains=[capital_chain,famous_chain],\n",
    "input_variables=['country'],\n",
    "output_variables=['capital',\"places\"])\n",
    "\n",
    "chain({'country':\"India\"})"
   ]
  },
  {
   "cell_type": "markdown",
   "metadata": {},
   "source": [
    "# Chat Open AI"
   ]
  },
  {
   "cell_type": "code",
   "execution_count": 24,
   "metadata": {},
   "outputs": [],
   "source": [
    "from langchain_core.prompts import ChatPromptTemplate\n",
    "from langchain_openai import ChatOpenAI\n"
   ]
  },
  {
   "cell_type": "code",
   "execution_count": 25,
   "metadata": {},
   "outputs": [],
   "source": [
    "from langchain.schema import HumanMessage,SystemMessage,AIMessage"
   ]
  },
  {
   "cell_type": "code",
   "execution_count": 34,
   "metadata": {},
   "outputs": [],
   "source": [
    "chatllm=ChatOpenAI(openai_api_key=\"\",temperature=0.6,model='gpt-3.5-turbo')"
   ]
  },
  {
   "cell_type": "code",
   "execution_count": 37,
   "metadata": {},
   "outputs": [
    {
     "data": {
      "text/plain": [
       "AIMessage(content='The most repeated line in the Holy Quran after Bismillahir Rahmanir Rahim is \"Alhamdulillah\" which means \"Praise be to Allah\". It is mentioned in various verses throughout the Quran and is a reminder for believers to constantly express gratitude and praise to Allah for His countless blessings.', response_metadata={'finish_reason': 'stop', 'logprobs': None})"
      ]
     },
     "execution_count": 37,
     "metadata": {},
     "output_type": "execute_result"
    }
   ],
   "source": [
    "chatllm.invoke([\n",
    "    SystemMessage(content=\"you are a Islamic Scholar\"),\n",
    "    HumanMessage(content=\"which is the most repeated line in the Holy quran other than Bismillahir Rahmanir Rahim\"),\n",
    "])"
   ]
  },
  {
   "cell_type": "markdown",
   "metadata": {},
   "source": [
    "## PromptTemplate <-+-+-+-+-+-+-+-+> LLM <-+-+-+-+-+-+-+-+> Output Parsers"
   ]
  },
  {
   "cell_type": "code",
   "execution_count": 38,
   "metadata": {},
   "outputs": [],
   "source": [
    "from langchain.chat_models import ChatOpenAI\n",
    "from langchain.prompts.chat import ChatPromptTemplate\n",
    "from langchain.schema import BaseOutputParser"
   ]
  },
  {
   "cell_type": "code",
   "execution_count": 39,
   "metadata": {},
   "outputs": [],
   "source": [
    "class Commaseperatedoutput(BaseOutputParser):\n",
    "    def parse(self,text:str):\n",
    "        return text.strip().split(\",\")"
   ]
  },
  {
   "cell_type": "code",
   "execution_count": 40,
   "metadata": {},
   "outputs": [],
   "source": [
    "template=\"Your are a helpful assistant. When the use given any input , you should generate 5 words synonyms in a comma seperated list\"\n",
    "human_template=\"{text}\"\n",
    "chatprompt=ChatPromptTemplate.from_messages([\n",
    "    (\"system\",template),\n",
    "    (\"human\",human_template)\n",
    "\n",
    "\n",
    "])"
   ]
  },
  {
   "cell_type": "code",
   "execution_count": 41,
   "metadata": {},
   "outputs": [],
   "source": [
    "chain=chatprompt|chatllm|Commaseperatedoutput()"
   ]
  },
  {
   "cell_type": "code",
   "execution_count": 42,
   "metadata": {},
   "outputs": [
    {
     "data": {
      "text/plain": [
       "['smart', ' clever', ' bright', ' astute', ' ingenious']"
      ]
     },
     "execution_count": 42,
     "metadata": {},
     "output_type": "execute_result"
    }
   ],
   "source": [
    "chain.invoke({\"text\":\"intelligent\"})\n"
   ]
  }
 ],
 "metadata": {
  "kernelspec": {
   "display_name": "hugg",
   "language": "python",
   "name": "python3"
  },
  "language_info": {
   "codemirror_mode": {
    "name": "ipython",
    "version": 3
   },
   "file_extension": ".py",
   "mimetype": "text/x-python",
   "name": "python",
   "nbconvert_exporter": "python",
   "pygments_lexer": "ipython3",
   "version": "3.12.2"
  }
 },
 "nbformat": 4,
 "nbformat_minor": 2
}
